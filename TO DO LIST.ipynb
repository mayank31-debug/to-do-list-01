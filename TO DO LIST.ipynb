{
 "cells": [
  {
   "cell_type": "code",
   "execution_count": 6,
   "id": "c3956deb-d5de-4126-a9bc-1c7a2ba1ba08",
   "metadata": {},
   "outputs": [
    {
     "name": "stdout",
     "output_type": "stream",
     "text": [
      "\n",
      "====== To-Do List Menu ======\n",
      "1. Show Tasks\n",
      "2. Add Task\n",
      "3. Update Task\n",
      "4. Complete Task\n",
      "5. Delete Task\n",
      "6. Exit\n"
     ]
    },
    {
     "name": "stdin",
     "output_type": "stream",
     "text": [
      "Enter your choice:  2\n",
      "\n",
      "Enter the task to add:  Clean Cloths\n"
     ]
    },
    {
     "name": "stdout",
     "output_type": "stream",
     "text": [
      "\n",
      "Task 'Clean Cloths' added successfully.\n"
     ]
    },
    {
     "name": "stdin",
     "output_type": "stream",
     "text": [
      "\n",
      "Press Enter to return to the menu. \n"
     ]
    },
    {
     "name": "stdout",
     "output_type": "stream",
     "text": [
      "\n",
      "====== To-Do List Menu ======\n",
      "1. Show Tasks\n",
      "2. Add Task\n",
      "3. Update Task\n",
      "4. Complete Task\n",
      "5. Delete Task\n",
      "6. Exit\n"
     ]
    },
    {
     "name": "stdin",
     "output_type": "stream",
     "text": [
      "Enter your choice:  1\n"
     ]
    },
    {
     "name": "stdout",
     "output_type": "stream",
     "text": [
      "\n",
      "Current Tasks:\n",
      "1. [Pending] Clean Cloths\n"
     ]
    },
    {
     "name": "stdin",
     "output_type": "stream",
     "text": [
      "\n",
      "Press Enter to return to the menu. \n"
     ]
    },
    {
     "name": "stdout",
     "output_type": "stream",
     "text": [
      "\n",
      "====== To-Do List Menu ======\n",
      "1. Show Tasks\n",
      "2. Add Task\n",
      "3. Update Task\n",
      "4. Complete Task\n",
      "5. Delete Task\n",
      "6. Exit\n"
     ]
    },
    {
     "name": "stdin",
     "output_type": "stream",
     "text": [
      "Enter your choice:  4\n"
     ]
    },
    {
     "name": "stdout",
     "output_type": "stream",
     "text": [
      "\n",
      "Current Tasks:\n",
      "1. [Pending] Clean Cloths\n"
     ]
    },
    {
     "name": "stdin",
     "output_type": "stream",
     "text": [
      "\n",
      "Enter the task number to mark as complete:  1\n"
     ]
    },
    {
     "name": "stdout",
     "output_type": "stream",
     "text": [
      "\n",
      "Task 'Clean Cloths' marked as completed.\n"
     ]
    },
    {
     "name": "stdin",
     "output_type": "stream",
     "text": [
      "\n",
      "Press Enter to return to the menu. \n"
     ]
    },
    {
     "name": "stdout",
     "output_type": "stream",
     "text": [
      "\n",
      "====== To-Do List Menu ======\n",
      "1. Show Tasks\n",
      "2. Add Task\n",
      "3. Update Task\n",
      "4. Complete Task\n",
      "5. Delete Task\n",
      "6. Exit\n"
     ]
    },
    {
     "name": "stdin",
     "output_type": "stream",
     "text": [
      "Enter your choice:  1\n"
     ]
    },
    {
     "name": "stdout",
     "output_type": "stream",
     "text": [
      "\n",
      "Current Tasks:\n",
      "1. [Done] Clean Cloths\n"
     ]
    },
    {
     "name": "stdin",
     "output_type": "stream",
     "text": [
      "\n",
      "Press Enter to return to the menu. \n"
     ]
    },
    {
     "name": "stdout",
     "output_type": "stream",
     "text": [
      "\n",
      "====== To-Do List Menu ======\n",
      "1. Show Tasks\n",
      "2. Add Task\n",
      "3. Update Task\n",
      "4. Complete Task\n",
      "5. Delete Task\n",
      "6. Exit\n"
     ]
    },
    {
     "name": "stdin",
     "output_type": "stream",
     "text": [
      "Enter your choice:  6\n"
     ]
    },
    {
     "name": "stdout",
     "output_type": "stream",
     "text": [
      "\n",
      "Exiting To-Do List application. Goodbye!\n"
     ]
    }
   ],
   "source": [
    "import os\n",
    "\n",
    "# Define an empty list to store tasks\n",
    "tasks = []\n",
    "\n",
    "# Function to display the current tasks in the to-do list\n",
    "def show_tasks():\n",
    "    if tasks:\n",
    "        print(\"\\nCurrent Tasks:\")\n",
    "        for index, task in enumerate(tasks, 1):\n",
    "            status = \"Done\" if task[\"completed\"] else \"Pending\"\n",
    "            print(f\"{index}. [{status}] {task['name']}\")\n",
    "    else:\n",
    "        print(\"\\nNo tasks in the list.\")\n",
    "\n",
    "# Function to add a new task to the list\n",
    "def add_task(task_name):\n",
    "    task = {\"name\": task_name, \"completed\": False}\n",
    "    tasks.append(task)\n",
    "    print(f\"\\nTask '{task_name}' added successfully.\")\n",
    "\n",
    "# Function to delete a task from the list\n",
    "def delete_task(task_number):\n",
    "    if 0 < task_number <= len(tasks):\n",
    "        removed_task = tasks.pop(task_number - 1)\n",
    "        print(f\"\\nTask '{removed_task['name']}' deleted successfully.\")\n",
    "    else:\n",
    "        print(\"\\nInvalid task number.\")\n",
    "\n",
    "# Function to mark a task as completed\n",
    "def complete_task(task_number):\n",
    "    if 0 < task_number <= len(tasks):\n",
    "        tasks[task_number - 1][\"completed\"] = True\n",
    "        print(f\"\\nTask '{tasks[task_number - 1]['name']}' marked as completed.\")\n",
    "    else:\n",
    "        print(\"\\nInvalid task number.\")\n",
    "\n",
    "# Function to update a task\n",
    "def update_task(task_number, new_name):\n",
    "    if 0 < task_number <= len(tasks):\n",
    "        tasks[task_number - 1][\"name\"] = new_name\n",
    "        print(f\"\\nTask {task_number} updated successfully.\")\n",
    "    else:\n",
    "        print(\"\\nInvalid task number.\")\n",
    "\n",
    "# Main loop for the To-Do List application\n",
    "while True:\n",
    "    os.system('cls' if os.name == 'nt' else 'clear')  # Clear the screen for a better UI\n",
    "    print(\"\\n====== To-Do List Menu ======\")\n",
    "    print(\"1. Show Tasks\")\n",
    "    print(\"2. Add Task\")\n",
    "    print(\"3. Update Task\")\n",
    "    print(\"4. Complete Task\")\n",
    "    print(\"5. Delete Task\")\n",
    "    print(\"6. Exit\")\n",
    "\n",
    "    choice = input(\"Enter your choice: \")\n",
    "\n",
    "    if choice == '1':\n",
    "        show_tasks()\n",
    "        input(\"\\nPress Enter to return to the menu.\")\n",
    "    elif choice == '2':\n",
    "        new_task = input(\"\\nEnter the task to add: \")\n",
    "        add_task(new_task)\n",
    "        input(\"\\nPress Enter to return to the menu.\")\n",
    "    elif choice == '3':\n",
    "        show_tasks()\n",
    "        task_number = int(input(\"\\nEnter the task number to update: \"))\n",
    "        new_description = input(\"Enter the new description of the task: \")\n",
    "        update_task(task_number, new_description)\n",
    "        input(\"\\nPress Enter to return to the menu.\")\n",
    "    elif choice == '4':\n",
    "        show_tasks()\n",
    "        task_number = int(input(\"\\nEnter the task number to mark as complete: \"))\n",
    "        complete_task(task_number)\n",
    "        input(\"\\nPress Enter to return to the menu.\")\n",
    "    elif choice == '5':\n",
    "        show_tasks()\n",
    "        task_number = int(input(\"\\nEnter the task number to delete: \"))\n",
    "        delete_task(task_number)\n",
    "        input(\"\\nPress Enter to return to the menu.\")\n",
    "    elif choice == '6':\n",
    "        print(\"\\nExiting To-Do List application. Goodbye!\")\n",
    "        break\n",
    "    else:\n",
    "        print(\"\\nInvalid choice. Please try again.\")\n",
    "        input(\"\\nPress Enter to return to the menu.\")\n"
   ]
  },
  {
   "cell_type": "code",
   "execution_count": null,
   "id": "4a000e38-714c-4f06-ba71-bc7eb813148e",
   "metadata": {},
   "outputs": [],
   "source": []
  }
 ],
 "metadata": {
  "kernelspec": {
   "display_name": "Python 3 (ipykernel)",
   "language": "python",
   "name": "python3"
  },
  "language_info": {
   "codemirror_mode": {
    "name": "ipython",
    "version": 3
   },
   "file_extension": ".py",
   "mimetype": "text/x-python",
   "name": "python",
   "nbconvert_exporter": "python",
   "pygments_lexer": "ipython3",
   "version": "3.11.7"
  }
 },
 "nbformat": 4,
 "nbformat_minor": 5
}
